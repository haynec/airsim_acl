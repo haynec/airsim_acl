{
 "cells": [
  {
   "cell_type": "code",
   "execution_count": 32,
   "metadata": {},
   "outputs": [
    {
     "name": "stdout",
     "output_type": "stream",
     "text": [
      "The autoreload extension is already loaded. To reload it, use:\n",
      "  %reload_ext autoreload\n"
     ]
    }
   ],
   "source": [
    "%load_ext autoreload\n",
    "%autoreload 2\n",
    "\n",
    "import cvxpy as cp\n",
    "import numpy as np\n",
    "import pickle as pk\n",
    "import numpy.linalg as la\n",
    "from argparse import Namespace\n",
    "import matplotlib.pyplot as plt\n",
    "import time"
   ]
  },
  {
   "cell_type": "code",
   "execution_count": 33,
   "metadata": {},
   "outputs": [
    {
     "name": "stdout",
     "output_type": "stream",
     "text": [
      "T=25.00s trust=0.14817 rf_relax=4.87919 wp_relax=1.59320 \n",
      "T=18.02s trust=0.15813 rf_relax=0.00000 wp_relax=0.00000 \n",
      "T=10.11s trust=0.09530 rf_relax=0.00000 wp_relax=0.00000 \n",
      "T=5.35s trust=0.05199 rf_relax=0.00000 wp_relax=0.00000 \n",
      "T=2.75s trust=0.02711 rf_relax=0.00000 wp_relax=0.00000 \n",
      "T=1.39s trust=0.00277 rf_relax=0.07466 wp_relax=0.08000 \n",
      "T=1.26s trust=0.00130 rf_relax=0.08357 wp_relax=0.07387 \n",
      "T=1.32s trust=0.00007 rf_relax=0.08330 wp_relax=0.07423 \n",
      "T=1.32s trust=0.00004 rf_relax=0.08354 wp_relax=0.07399 \n",
      "T=1.32s trust=0.00001 rf_relax=0.08361 wp_relax=0.07391 \n",
      "T=1.32s trust=0.00001 rf_relax=0.08366 wp_relax=0.07387 \n",
      "T=1.32s trust=0.00002 rf_relax=0.08350 wp_relax=0.07402 \n",
      "T=1.32s trust=0.00001 rf_relax=0.08354 wp_relax=0.07399 \n",
      "T=1.32s trust=0.00001 rf_relax=0.08361 wp_relax=0.07391 \n",
      "T=1.32s trust=0.00001 rf_relax=0.08366 wp_relax=0.07387 \n",
      "T=1.32s trust=0.00002 rf_relax=0.08350 wp_relax=0.07402 \n",
      "T=1.32s trust=0.00001 rf_relax=0.08354 wp_relax=0.07399 \n",
      "T=1.32s trust=0.00001 rf_relax=0.08361 wp_relax=0.07391 \n",
      "T=1.32s trust=0.00001 rf_relax=0.08366 wp_relax=0.07387 \n",
      "T=1.32s trust=0.00002 rf_relax=0.08350 wp_relax=0.07402 \n",
      "T=1.32s trust=0.00001 rf_relax=0.08354 wp_relax=0.07399 \n",
      "T=1.32s trust=0.00001 rf_relax=0.08361 wp_relax=0.07391 \n",
      "T=1.32s trust=0.00001 rf_relax=0.08366 wp_relax=0.07387 \n",
      "T=1.32s trust=0.00002 rf_relax=0.08350 wp_relax=0.07402 \n",
      "T=1.32s trust=0.00001 rf_relax=0.08354 wp_relax=0.07399 \n",
      "T=1.32s trust=0.00001 rf_relax=0.08361 wp_relax=0.07391 \n",
      "T=1.32s trust=0.00001 rf_relax=0.08366 wp_relax=0.07387 \n",
      "T=1.32s trust=0.00002 rf_relax=0.08350 wp_relax=0.07402 \n",
      "T=1.32s trust=0.00001 rf_relax=0.08354 wp_relax=0.07399 \n",
      "T=1.32s trust=0.00001 rf_relax=0.08361 wp_relax=0.07391 \n",
      "  36.1fps (27.69ms, max: 90.86ms)\n"
     ]
    }
   ],
   "source": [
    "K = 50\n",
    "parameters = dict(K=K, ri=np.zeros(3), vi=np.zeros(3), ai=np.zeros(3),\n",
    "                  rf=np.array([.4,.0,0]), vf=np.zeros(3), af=np.zeros(3),\n",
    "                  wp=np.array([.2,.1,0]), wp_idx=int(K/3),\n",
    "                  gravity=np.array([0.,0.,-9.81]),\n",
    "                  v_fast=.5, v_slow=.25, a_min=5., a_max=12.0, \n",
    "                  theta_max=np.radians(45.0),\n",
    "                  j_max=40, max_iter=30,\n",
    "                  weight_ri=1e3, weight_rf=1e4, weight_wp=1e4,\n",
    "                  weight_obs=1e2, weight_trust=1e-2, n_obs=1)\n",
    "\n",
    "\"\"\" Initialize parameters \"\"\"\n",
    "P = Namespace(**parameters)\n",
    "\n",
    "ri = cp.Parameter(3)\n",
    "vi = cp.Parameter(3)\n",
    "ai = cp.Parameter(3)\n",
    "rf = cp.Parameter(3)\n",
    "vf = cp.Parameter(3)\n",
    "af = cp.Parameter(3)\n",
    "wp = cp.Parameter(3)\n",
    "\n",
    "w_rf = cp.Parameter()\n",
    "w_wp = cp.Parameter()\n",
    "w_trust = cp.Parameter()\n",
    "# w_obs = cp.Parameter()\n",
    "# w_ri = cp.Parameter()\n",
    "\n",
    "ri.value = P.ri\n",
    "vi.value = P.vi\n",
    "ai.value = P.ai\n",
    "rf.value = P.rf\n",
    "vf.value = P.vf\n",
    "af.value = P.af\n",
    "wp.value = P.wp\n",
    "\n",
    "w_rf.value = P.weight_rf\n",
    "w_wp.value = P.weight_wp\n",
    "w_trust.value = P.weight_trust\n",
    "# w_obs.value = P.weight_obs\n",
    "# w_ri.value = P.weight_ri\n",
    "\n",
    "\"\"\" Initialize variables \"\"\"\n",
    "r = cp.Variable((P.K, 3))\n",
    "v = cp.Variable((P.K, 3))\n",
    "a = cp.Variable((P.K, 3))\n",
    "dtau = cp.Variable()\n",
    "\n",
    "r0 = cp.Parameter((P.K, 3))\n",
    "v0 = cp.Parameter((P.K, 3))\n",
    "a0 = cp.Parameter((P.K, 3))\n",
    "tau = cp.Parameter()\n",
    "stc = cp.Parameter(P.K)\n",
    "\n",
    "s = cp.Variable(P.K, nonneg=True)\n",
    "eta = cp.Variable((P.K, P.n_obs), nonneg=True)\n",
    "delta = cp.Variable((P.K, 2), nonneg=True)\n",
    "trust = cp.Variable(nonneg=True)\n",
    "\n",
    "rf_relax = cp.Variable(3)\n",
    "ri_relax = cp.Variable(3)\n",
    "wp_relax = cp.Variable(3)\n",
    "\n",
    "s_ri = cp.Variable()\n",
    "s_rf = cp.Variable()\n",
    "s_wp = cp.Variable()\n",
    "\n",
    "sigma = cp.Variable(nonneg=True)\n",
    "# helper variables to maintain disciplined parametric programming\n",
    "raccel = cp.Variable((P.K-1, 3))\n",
    "Dt_raccel = cp.Variable((P.K-1, 3))\n",
    "\n",
    "f = 0\n",
    "g = dict() \n",
    "\n",
    "\"\"\" Define cost \"\"\"\n",
    "f += cp.norm(s)\n",
    "f += tau + dtau\n",
    "# f += w_ri*s_ri\n",
    "f += w_rf*s_rf\n",
    "f += w_wp*s_wp\n",
    "f += w_trust*trust\n",
    "\n",
    "g[\"relax_rf\"] = s_rf >= cp.norm(rf_relax)**2\n",
    "g[\"relax_wp\"] = s_wp >= cp.norm(wp_relax)**2\n",
    "# g[\"relax_ri\"] = s_ri >= cp.norm(ri_relax)\n",
    "\n",
    "\"\"\" Trust Region \"\"\"\n",
    "g[\"trust_dtau\"] = cp.abs(dtau) <= trust\n",
    "# g[\"trust_pos\"] = cp.abs(r[:,:2] - r0[:,:2]) <= delta\n",
    "# g[\"trust_obs\"] = cp.sum(delta) <= trust\n",
    "\n",
    "\"\"\" Boundary conditions \"\"\"\n",
    "g[\"pos_initial\"] = r[0] == ri #+ ri_relax\n",
    "g[\"pos_final\"] = r[-1] == rf + rf_relax\n",
    "g[\"vel_initial\"] = v[0] == vi\n",
    "g[\"vel_final\"] = v[-1] == vf\n",
    "g[\"waypoint\"] = r[P.wp_idx] == wp + wp_relax\n",
    "g[\"accel_initial\"] = a[0,:2] == ai[:2]\n",
    "g[\"accel_final\"] = a[-1,:2] == af[:2]\n",
    "\n",
    "\"\"\" Dynamics \"\"\"\n",
    "grav = np.tile(P.gravity, (P.K-1, 1)) \n",
    "\n",
    "g[\"helper_raccel\"] = raccel == 1/2*(1/3*(2*a[:-1] + a[1:]) + grav)*tau\n",
    "g[\"helper_Dt_raccel\"] = Dt_raccel == (1/3*(2*a0[:-1] + a0[1:]) + grav)*dtau\n",
    "\n",
    "g[\"dynamics_pos\"] = \\\n",
    "r[1:] == r[:-1] + (v[:-1] + raccel)*tau + v0[:-1]*dtau + Dt_raccel*tau\n",
    "g[\"dynamics_vel\"] = \\\n",
    "v[1:] == v[:-1] + 1/2*(a[:-1] + a[1:] + grav)*tau \\\n",
    "       + 1/2*(a0[:-1] + a0[1:] + grav)*dtau# + v_virtual\n",
    "\n",
    "\"\"\" State constraints \"\"\"\n",
    "g[\"height_max\"] = r[:,2] <= 0\n",
    "g[\"height_min\"] = -r[:,2] >= 0\n",
    "g[\"vertical_vel\"] = cp.abs(v[:,2]) <= 0\n",
    "g[\"vel_max\"] = cp.norm(v, axis=1) <= (1-stc)*P.v_fast + (stc)*P.v_slow\n",
    "g[\"horizontal_jerk_max\"] = cp.norm(a[:-1] - a[1:], 2, axis=1) <= P.j_max*(tau + dtau)\n",
    "#g += [P.cpos_A@@r <= np.tile(P.cpos_b, (K,1))]\n",
    "\n",
    "g[\"lossless\"] = cp.norm(a, axis=1) <= s\n",
    "g[\"bank_angle\"] = np.cos(P.theta_max)*s <= a[:,2]\n",
    "g[\"thrust_min\"] = P.a_min <= s \n",
    "g[\"thrust_max\"] = s <= P.a_max\n",
    "\n",
    "def update(r,v,a,t):\n",
    "    r0.value = r\n",
    "    v0.value = v\n",
    "    a0.value = a\n",
    "    tau.value = t\n",
    "    if trust.value is not None and trust.value <= 1:\n",
    "        stc.value = np.logical_and(r[:,0]<=.30, r[:,0]>=.25)*1.\n",
    "    else:\n",
    "        stc.value = np.zeros(K)\n",
    "    \n",
    "prob = cp.Problem(cp.Minimize(f), list(g.values()))\n",
    "zeros = np.zeros((P.K,3))  \n",
    "update(zeros, zeros, zeros, 0.5)\n",
    "log_time = [time.time()]\n",
    "for _ in range(P.max_iter):\n",
    "    log_time.append(time.time())\n",
    "    out = prob.solve(solver=\"ECOS\", warm_start=True)\n",
    "    if out == np.inf:\n",
    "        print(\"FAILED\")\n",
    "        break\n",
    "    print(f\"T={P.K*tau.value:.2f}s \"\n",
    "          f\"trust={trust.value:.5f} \"\\\n",
    "          f\"rf_relax={la.norm(rf_relax.value):.5f} \"\n",
    "          f\"wp_relax={la.norm(wp_relax.value):.5f} \")\n",
    "    if np.isclose(trust.value,0):\n",
    "        break\n",
    "    \n",
    "    update(r.value, v.value, a.value, tau.value + dtau.value)\n",
    "    \n",
    "time_avg = np.diff(log_time).mean()*1000\n",
    "time_max = np.diff(log_time).max()*1000\n",
    "time_fps = 1/np.diff(log_time).mean()\n",
    "print(f\"  {time_fps:.1f}fps ({time_avg:.2f}ms, max: {time_max:.2f}ms)\")\n"
   ]
  },
  {
   "cell_type": "code",
   "execution_count": 34,
   "metadata": {},
   "outputs": [
    {
     "data": {
      "image/png": "[encoded data removed]",
      "text/plain": [
       "<Figure size 432x288 with 1 Axes>"
      ]
     },
     "metadata": {
      "needs_background": "light"
     },
     "output_type": "display_data"
    },
    {
     "data": {
      "image/png": "[encoded data removed]",
      "text/plain": [
       "<Figure size 432x288 with 1 Axes>"
      ]
     },
     "metadata": {
      "needs_background": "light"
     },
     "output_type": "display_data"
    },
    {
     "data": {
      "image/png": "[encoded data removed]",
      "text/plain": [
       "<Figure size 432x288 with 1 Axes>"
      ]
     },
     "metadata": {
      "needs_background": "light"
     },
     "output_type": "display_data"
    },
    {
     "data": {
      "image/png": "[encoded data removed]",
      "text/plain": [
       "<Figure size 432x288 with 1 Axes>"
      ]
     },
     "metadata": {
      "needs_background": "light"
     },
     "output_type": "display_data"
    },
    {
     "data": {
      "image/png": "[encoded data removed]",
      "text/plain": [
       "<Figure size 432x288 with 1 Axes>"
      ]
     },
     "metadata": {
      "needs_background": "light"
     },
     "output_type": "display_data"
    }
   ],
   "source": [
    "t = np.linspace(0,P.K*tau.value,P.K) \n",
    "plt.figure()\n",
    "plt.title(\"Position\")\n",
    "plt.plot(*r.value[:,:2].T, 'o-')\n",
    "plt.plot(*ri.value[:2], 'o', fillstyle='none', ms=10)\n",
    "plt.plot(*wp.value[:2], 'o', fillstyle='none', ms=10)\n",
    "plt.plot(*rf.value[:2], 'o', fillstyle='none', ms=10)\n",
    "plt.gca().set_aspect('equal')\n",
    "plt.grid()\n",
    "#plt.plot(r.value[:,2], 'o-')\n",
    "plt.figure()\n",
    "plt.title(\"Velocity\")\n",
    "plt.gca().axhline(y=P.v_fast, color='k', ls='--')\n",
    "plt.gca().axhline(y=P.v_slow, color='k', ls='--')\n",
    "plt.step(t, la.norm(v.value, axis=1), where=\"post\")\n",
    "# plt.plot(t, v.value, '-.')\n",
    "plt.figure()\n",
    "plt.title(\"Accel\")\n",
    "plt.gca().axhline(y=P.a_min, color='k', ls='--')\n",
    "plt.gca().axhline(y=P.a_max, color='k', ls='--')\n",
    "plt.step(t, la.norm(a.value, axis=1), where=\"post\")\n",
    "plt.step(t, a.value, '-.', where=\"post\")\n",
    "plt.step(t, s.value, '-.', where=\"post\")\n",
    "plt.figure()\n",
    "plt.title(\"Jerk\")\n",
    "plt.gca().axhline(y=P.j_max, color='k', ls='--')\n",
    "plt.step(t[:-1], la.norm(np.diff(a.value, axis=0), axis=1)/tau.value)\n",
    "#plt.plot(t, a.value, '-.')\n",
    "plt.figure()\n",
    "plt.title(\"Angle\")\n",
    "plt.gca().axhline(y=P.theta_max, color='k', ls='--')\n",
    "bank_angle = np.arccos(a.value.dot(-P.gravity)/(la.norm(a.value,axis=1)*la.norm(P.gravity)))\n",
    "plt.step(t, bank_angle)\n",
    "plt.show()"
   ]
  },
  {
   "cell_type": "code",
   "execution_count": 35,
   "metadata": {},
   "outputs": [
    {
     "data": {
      "text/plain": [
       "array([219.1678741 , 109.64085466,  23.59741494])"
      ]
     },
     "execution_count": 35,
     "metadata": {},
     "output_type": "execute_result"
    }
   ],
   "source": [
    "g[\"vel_initial\"].dual_value"
   ]
  },
  {
   "cell_type": "code",
   "execution_count": 36,
   "metadata": {},
   "outputs": [
    {
     "data": {
      "text/plain": [
       "array([ 4.23222868, -2.20511763, 14.29652621])"
      ]
     },
     "execution_count": 36,
     "metadata": {},
     "output_type": "execute_result"
    }
   ],
   "source": [
    "g[\"vel_final\"].dual_value"
   ]
  },
  {
   "cell_type": "code",
   "execution_count": 37,
   "metadata": {
    "scrolled": true
   },
   "outputs": [
    {
     "data": {
      "text/plain": [
       "[<matplotlib.lines.Line2D at 0x7f5193834ac0>]"
      ]
     },
     "execution_count": 37,
     "metadata": {},
     "output_type": "execute_result"
    },
    {
     "data": {
      "image/png": "[encoded data removed]",
      "text/plain": [
       "<Figure size 432x288 with 1 Axes>"
      ]
     },
     "metadata": {
      "needs_background": "light"
     },
     "output_type": "display_data"
    }
   ],
   "source": [
    "plt.plot(g[\"vel_max\"].dual_value)"
   ]
  },
  {
   "cell_type": "code",
   "execution_count": 38,
   "metadata": {
    "scrolled": false
   },
   "outputs": [
    {
     "name": "stdout",
     "output_type": "stream",
     "text": [
      "/bin/bash: -c: line 0: syntax error near unexpected token `('\n",
      "/bin/bash: -c: line 0: `/home/chris/.virtualenvs/jupyter/bin/python -m pip install jupyter_contrib_nbextensions --upgradeplt.plot(g[\"horizontal_jerk_max\"].dual_value)'\n",
      "Note: you may need to restart the kernel to use updated packages.\n"
     ]
    }
   ],
   "source": [
    "pip install jupyter_contrib_nbextensions --upgradeplt.plot(g[\"horizontal_jerk_max\"].dual_value)"
   ]
  },
  {
   "cell_type": "code",
   "execution_count": 39,
   "metadata": {},
   "outputs": [
    {
     "data": {
      "text/plain": [
       "[<matplotlib.lines.Line2D at 0x7f5217e87820>]"
      ]
     },
     "execution_count": 39,
     "metadata": {},
     "output_type": "execute_result"
    },
    {
     "data": {
      "image/png": "[encoded data removed]",
      "text/plain": [
       "<Figure size 432x288 with 1 Axes>"
      ]
     },
     "metadata": {
      "needs_background": "light"
     },
     "output_type": "display_data"
    }
   ],
   "source": [
    "plt.plot(la.norm(g[\"dynamics_pos\"].dual_value,axis=1))"
   ]
  },
  {
   "cell_type": "code",
   "execution_count": 40,
   "metadata": {},
   "outputs": [
    {
     "data": {
      "text/plain": [
       "[<matplotlib.lines.Line2D at 0x7f5217e57a90>]"
      ]
     },
     "execution_count": 40,
     "metadata": {},
     "output_type": "execute_result"
    },
    {
     "data": {
      "image/png": "[encoded data removed]",
      "text/plain": [
       "<Figure size 432x288 with 1 Axes>"
      ]
     },
     "metadata": {
      "needs_background": "light"
     },
     "output_type": "display_data"
    }
   ],
   "source": [
    "plt.plot(la.norm(g[\"dynamics_vel\"].dual_value,axis=1))"
   ]
  },
  {
   "cell_type": "code",
   "execution_count": 41,
   "metadata": {},
   "outputs": [
    {
     "data": {
      "text/plain": [
       "array([ True, False])"
      ]
     },
     "execution_count": 41,
     "metadata": {},
     "output_type": "execute_result"
    }
   ],
   "source": [
    "np.logical_or([True,False],[False,False])"
   ]
  },
  {
   "cell_type": "code",
   "execution_count": 42,
   "metadata": {},
   "outputs": [
    {
     "data": {
      "text/plain": [
       "array([ True,  True,  True,  True,  True,  True,  True,  True,  True,\n",
       "        True,  True,  True,  True,  True,  True,  True,  True,  True,\n",
       "        True,  True,  True,  True,  True,  True,  True,  True,  True,\n",
       "        True,  True,  True,  True,  True,  True,  True,  True,  True,\n",
       "        True,  True,  True,  True,  True,  True,  True,  True,  True,\n",
       "        True,  True,  True,  True,  True])"
      ]
     },
     "execution_count": 42,
     "metadata": {},
     "output_type": "execute_result"
    }
   ],
   "source": [
    "np.logical_or(r0[:,0].value <=1, r0[:,0].value >= 0)"
   ]
  },
  {
   "cell_type": "code",
   "execution_count": 63,
   "metadata": {},
   "outputs": [],
   "source": [
    "hello = \"hello\""
   ]
  },
  {
   "cell_type": "code",
   "execution_count": 74,
   "metadata": {},
   "outputs": [
    {
     "ename": "NameError",
     "evalue": "name 'dt' is not defined",
     "output_type": "error",
     "traceback": [
      "\u001b[0;31m---------------------------------------------------------------------------\u001b[0m",
      "\u001b[0;31mNameError\u001b[0m                                 Traceback (most recent call last)",
      "\u001b[0;32m<ipython-input-74-9cc1df3305a3>\u001b[0m in \u001b[0;36m<module>\u001b[0;34m\u001b[0m\n\u001b[0;32m----> 1\u001b[0;31m \u001b[0mpk\u001b[0m\u001b[0;34m.\u001b[0m\u001b[0mdump\u001b[0m\u001b[0;34m(\u001b[0m\u001b[0mdt\u001b[0m\u001b[0;34m.\u001b[0m\u001b[0mvalue\u001b[0m\u001b[0;34m,\u001b[0m\u001b[0mopen\u001b[0m\u001b[0;34m(\u001b[0m\u001b[0;34m'test.txt'\u001b[0m\u001b[0;34m,\u001b[0m \u001b[0;34m'wb'\u001b[0m\u001b[0;34m)\u001b[0m\u001b[0;34m,\u001b[0m\u001b[0mprotocol\u001b[0m\u001b[0;34m=\u001b[0m\u001b[0;36m0\u001b[0m\u001b[0;34m)\u001b[0m\u001b[0;34m\u001b[0m\u001b[0;34m\u001b[0m\u001b[0m\n\u001b[0m",
      "\u001b[0;31mNameError\u001b[0m: name 'dt' is not defined"
     ]
    }
   ],
   "source": [
    "pk.dump(dt.value,open('test.txt', 'wb'),protocol=0)"
   ]
  },
  {
   "cell_type": "code",
   "execution_count": 72,
   "metadata": {},
   "outputs": [],
   "source": [
    "test = pk.load(open(\"test.txt\", 'rb'))"
   ]
  },
  {
   "cell_type": "code",
   "execution_count": 73,
   "metadata": {},
   "outputs": [
    {
     "name": "stdout",
     "output_type": "stream",
     "text": [
      "[array([[ 1.51658424e-10,  8.61802106e-11, -1.92152517e-11],\n",
      "       [ 1.09408240e-04,  5.47326119e-05, -1.70606921e-03],\n",
      "       [ 8.75263947e-04,  4.37859774e-04, -3.41245505e-03],\n",
      "       [ 2.95401489e-03,  1.47777621e-03, -5.11852423e-03],\n",
      "       [ 7.00210869e-03,  3.50287655e-03, -6.82491014e-03],\n",
      "       [ 1.35171652e-02,  6.76210009e-03, -8.53097925e-03],\n",
      "       [ 2.23015049e-02,  1.11565553e-02, -1.02373653e-02],\n",
      "       [ 3.27586684e-02,  1.63878570e-02, -1.19434343e-02],\n",
      "       [ 4.42322080e-02,  2.21276106e-02, -1.36498204e-02],\n",
      "       [ 5.60656762e-02,  2.80474214e-02, -1.53558893e-02],\n",
      "       [ 6.78100309e-02,  3.39239052e-02, -1.70622755e-02],\n",
      "       [ 7.96515412e-02,  3.98514990e-02, -1.87683444e-02],\n",
      "       [ 9.13989274e-02,  4.57238500e-02, -2.04747307e-02],\n",
      "       [ 1.03233468e-01,  5.16642378e-02, -2.21807994e-02],\n",
      "       [ 1.14948180e-01,  5.76034405e-02, -2.38871858e-02],\n",
      "       [ 1.26852159e-01,  6.34023820e-02, -2.55932545e-02],\n",
      "       [ 1.38890897e-01,  6.86489383e-02, -2.72996410e-02],\n",
      "       [ 1.51354905e-01,  7.31148948e-02, -2.90057095e-02],\n",
      "       [ 1.63920762e-01,  7.65700654e-02, -3.07120960e-02],\n",
      "       [ 1.76410588e-01,  7.90266500e-02, -3.24181645e-02],\n",
      "       [ 1.88591845e-01,  8.06138137e-02, -3.41245511e-02],\n",
      "       [ 2.00192596e-01,  8.14732961e-02, -3.58306195e-02],\n",
      "       [ 2.10940882e-01,  8.17468346e-02, -3.75370062e-02],\n",
      "       [ 2.20564708e-01,  8.15761650e-02, -3.92430744e-02],\n",
      "       [ 2.28837369e-01,  8.10963830e-02, -4.09494613e-02],\n",
      "       [ 2.35834317e-01,  8.03813356e-02, -4.26555294e-02],\n",
      "       [ 2.42145466e-01,  7.93168683e-02, -4.43619163e-02],\n",
      "       [ 2.48351444e-01,  7.76461352e-02, -4.60679844e-02],\n",
      "       [ 2.54581118e-01,  7.53562115e-02, -4.77743714e-02],\n",
      "       [ 2.60526338e-01,  7.26281771e-02, -4.94804394e-02],\n",
      "       [ 2.66446844e-01,  6.96553069e-02, -5.11868265e-02],\n",
      "       [ 2.72105720e-01,  6.67020588e-02, -5.28928944e-02],\n",
      "       [ 2.77758554e-01,  6.37405680e-02, -5.45992816e-02],\n",
      "       [ 2.84007821e-01,  6.04753057e-02, -5.63053494e-02],\n",
      "       [ 2.91390260e-01,  5.66218748e-02, -5.80117367e-02],\n",
      "       [ 2.99954596e-01,  5.21529245e-02, -5.97178044e-02],\n",
      "       [ 3.09471004e-01,  4.71878750e-02, -6.14241917e-02],\n",
      "       [ 3.19700008e-01,  4.18515017e-02, -6.31302594e-02],\n",
      "       [ 3.30479663e-01,  3.62287247e-02, -6.48366468e-02],\n",
      "       [ 3.41428523e-01,  3.05204221e-02, -6.65427145e-02],\n",
      "       [ 3.52021674e-01,  2.50001128e-02, -6.82491018e-02],\n",
      "       [ 3.62032349e-01,  1.97838451e-02, -6.99551695e-02],\n",
      "       [ 3.71332032e-01,  1.49380542e-02, -7.16615569e-02],\n",
      "       [ 3.79679824e-01,  1.05882616e-02, -7.33676246e-02],\n",
      "       [ 3.86803738e-01,  6.87619187e-03, -7.50740119e-02],\n",
      "       [ 3.92431767e-01,  3.94358018e-03, -7.67800796e-02],\n",
      "       [ 3.96306445e-01,  1.92458681e-03, -7.84864670e-02],\n",
      "       [ 3.98367718e-01,  8.50507664e-04, -8.01925347e-02],\n",
      "       [ 3.99127143e-01,  4.54789233e-04, -8.18989220e-02],\n",
      "       [ 3.99235632e-01,  3.98258032e-04, -8.36049897e-02]]), array([[ 6.06369189e-14,  1.86154699e-12,  1.07169707e-10],\n",
      "       [ 1.24438931e-02,  6.22518146e-03, -5.64396030e-10],\n",
      "       [ 4.97755725e-02,  2.49007258e-02,  1.06732126e-09],\n",
      "       [ 1.11995038e-01,  5.60266331e-02, -1.32473185e-09],\n",
      "       [ 1.99102290e-01,  9.96029032e-02,  1.49710214e-09],\n",
      "       [ 2.93032481e-01,  1.46592404e-01, -1.50737434e-09],\n",
      "       [ 3.68897825e-01,  1.84544773e-01,  1.60001998e-09],\n",
      "       [ 4.19875383e-01,  2.10046779e-01, -1.63557097e-09],\n",
      "       [ 4.45965155e-01,  2.23098421e-01,  1.71604124e-09],\n",
      "       [ 4.47167142e-01,  2.23699701e-01, -1.70153086e-09],\n",
      "       [ 4.47071416e-01,  2.23794307e-01,  1.74377288e-09],\n",
      "       [ 4.47167151e-01,  2.23699701e-01, -1.70573927e-09],\n",
      "       [ 4.47224481e-01,  2.23513830e-01,  1.74317783e-09],\n",
      "       [ 4.46106202e-01,  2.25808048e-01, -1.70565181e-09],\n",
      "       [ 4.46805833e-01,  2.24420420e-01,  1.74266897e-09],\n",
      "       [ 4.53023477e-01,  2.11588648e-01, -1.74109267e-09],\n",
      "       [ 4.64306023e-01,  1.85525987e-01,  1.82880165e-09],\n",
      "       [ 4.76652373e-01,  1.51005040e-01, -1.80140896e-09],\n",
      "       [ 4.75932378e-01,  1.11414575e-01,  1.83136575e-09],\n",
      "       [ 4.69382853e-01,  7.57674196e-02, -1.80111138e-09],\n",
      "       [ 4.52521626e-01,  4.54938246e-02,  1.82890633e-09],\n",
      "       [ 4.25348905e-01,  2.05937837e-02, -1.80127959e-09],\n",
      "       [ 3.87863922e-01,  1.06725055e-03,  1.82789276e-09],\n",
      "       [ 3.40066192e-01, -1.30857948e-02, -1.79953466e-09],\n",
      "       [ 2.87110256e-01, -2.26208207e-02,  1.82610050e-09],\n",
      "       [ 2.47912387e-01, -3.22404386e-02, -1.77842267e-09],\n",
      "       [ 2.34569564e-01, -5.07390044e-02,  1.96147269e-09],\n",
      "       [ 2.37255734e-01, -7.58628839e-02, -1.91235977e-09],\n",
      "       [ 2.30704360e-01, -9.63093977e-02,  2.09572037e-09],\n",
      "       [ 2.24645829e-01, -1.09700675e-01, -2.42946655e-09],\n",
      "       [ 2.20295682e-01, -1.13372691e-01,  2.45558374e-09],\n",
      "       [ 2.11184552e-01, -1.10872698e-01, -2.42322838e-09],\n",
      "       [ 2.21532407e-01, -1.15859369e-01,  1.27239921e-09],\n",
      "       [ 2.56445333e-01, -1.33896577e-01, -5.35513995e-11],\n",
      "       [ 3.03251906e-01, -1.58250683e-01,  7.91497795e-11],\n",
      "       [ 3.44500247e-01, -1.79742848e-01, -4.86288048e-11],\n",
      "       [ 3.75441287e-01, -1.95864917e-01,  8.46431680e-11],\n",
      "       [ 3.99760105e-01, -2.08536389e-01, -5.59904997e-11],\n",
      "       [ 4.15215235e-01, -2.16528993e-01,  6.04997606e-11],\n",
      "       [ 4.10933805e-01, -2.14177506e-01, -3.68861346e-11],\n",
      "       [ 3.91360263e-01, -2.03918355e-01,  5.67264005e-11],\n",
      "       [ 3.67206203e-01, -1.91332838e-01,  7.44662320e-12],\n",
      "       [ 3.36269684e-01, -1.75213406e-01,  8.51933362e-12],\n",
      "       [ 2.95021451e-01, -1.53721096e-01,  1.90025681e-11],\n",
      "       [ 2.43460465e-01, -1.26855306e-01,  6.78959362e-12],\n",
      "       [ 1.81586729e-01, -9.46160373e-02,  2.18922991e-11],\n",
      "       [ 1.11054430e-01, -5.78651670e-02,  4.31955042e-12],\n",
      "       [ 4.93581242e-02, -2.57182007e-02,  2.85437135e-11],\n",
      "       [ 1.23395310e-02, -6.42955073e-03,  4.99903523e-12],\n",
      "       [-1.77776794e-11,  1.46541470e-12, -3.21157284e-13]]), array([[-1.15704532e-12, -4.37519086e-13,  4.90636545e+00],\n",
      "       [ 9.43566243e-01,  4.72028154e-01,  4.90363447e+00],\n",
      "       [ 1.88713249e+00,  9.44056306e-01,  4.90636572e+00],\n",
      "       [ 2.83069873e+00,  1.41608446e+00,  4.90363401e+00],\n",
      "       [ 3.77426496e+00,  1.88811261e+00,  4.90636632e+00],\n",
      "       [ 3.34805138e+00,  1.67489420e+00,  4.90363334e+00],\n",
      "       [ 2.40448515e+00,  1.20286604e+00,  4.90636701e+00],\n",
      "       [ 1.46091893e+00,  7.30837872e-01,  4.90363262e+00],\n",
      "       [ 5.17352708e-01,  2.58809704e-01,  4.90636776e+00],\n",
      "       [-4.26213506e-01, -2.13218457e-01,  4.90363185e+00],\n",
      "       [ 4.18958680e-01,  2.20389156e-01,  4.90636855e+00],\n",
      "       [-4.11703207e-01, -2.27559846e-01,  4.90363106e+00],\n",
      "       [ 4.16041912e-01,  2.13485269e-01,  4.90636933e+00],\n",
      "       [-5.00834048e-01, -3.95312426e-02,  4.90363028e+00],\n",
      "       [ 5.53889451e-01, -6.56974585e-02,  4.90637012e+00],\n",
      "       [-8.24496752e-02, -9.07243562e-01,  4.90362949e+00],\n",
      "       [ 9.37917528e-01, -1.06886834e+00,  4.90637092e+00],\n",
      "       [-1.78874807e-03, -1.54853434e+00,  4.90362867e+00],\n",
      "       [-5.30488007e-02, -1.45327151e+00,  4.90637174e+00],\n",
      "       [-4.44043347e-01, -1.24955162e+00,  4.90362784e+00],\n",
      "       [-8.35038301e-01, -1.04583152e+00,  4.90637257e+00],\n",
      "       [-1.22603341e+00, -8.42111268e-01,  4.90362702e+00],\n",
      "       [-1.61702839e+00, -6.38390890e-01,  4.90637340e+00],\n",
      "       [-2.00802309e+00, -4.34670673e-01,  4.90362619e+00],\n",
      "       [-2.00802129e+00, -2.88256207e-01,  4.90637422e+00],\n",
      "       [-9.64125318e-01, -4.41251786e-01,  4.90362537e+00],\n",
      "       [-4.65093039e-02, -9.61931659e-01,  4.90637505e+00],\n",
      "       [ 2.51884438e-01, -9.43936620e-01,  4.90362450e+00],\n",
      "       [-7.47620537e-01, -6.07062158e-01,  4.90637594e+00],\n",
      "       [ 2.88536211e-01, -4.08433844e-01,  4.90362353e+00],\n",
      "       [-6.18463706e-01,  1.30522492e-01,  4.90637702e+00],\n",
      "       [-7.25584621e-02,  5.97886076e-02,  4.90362242e+00],\n",
      "       [ 8.57755148e-01, -4.37849184e-01,  4.90637804e+00],\n",
      "       [ 1.79072093e+00, -9.30496409e-01,  4.90362185e+00],\n",
      "       [ 1.75947705e+00, -9.16739984e-01,  4.90637817e+00],\n",
      "       [ 1.36848260e+00, -7.13020262e-01,  4.90362182e+00],\n",
      "       [ 9.77487600e-01, -5.09300248e-01,  4.90637819e+00],\n",
      "       [ 8.66429188e-01, -4.51435597e-01,  4.90362179e+00],\n",
      "       [ 3.05271568e-01, -1.54465741e-01,  4.90637822e+00],\n",
      "       [-6.30389694e-01,  3.33041583e-01,  4.90362177e+00],\n",
      "       [-8.54068064e-01,  4.44995017e-01,  4.90637825e+00],\n",
      "       [-9.77488672e-01,  5.09300721e-01,  4.90362175e+00],\n",
      "       [-1.36848291e+00,  7.13020432e-01,  4.90637825e+00],\n",
      "       [-1.75947801e+00,  9.16740504e-01,  4.90362175e+00],\n",
      "       [-2.15047308e+00,  1.12046052e+00,  4.90637825e+00],\n",
      "       [-2.54146801e+00,  1.32418037e+00,  4.90362175e+00],\n",
      "       [-2.80698487e+00,  1.46252290e+00,  4.90637824e+00],\n",
      "       [-1.87132428e+00,  9.75015609e-01,  4.90362176e+00],\n",
      "       [-9.35662144e-01,  4.87507889e-01,  4.90637824e+00],\n",
      "       [ 1.45349883e-12, -4.34106498e-13,  4.90362176e+00]])]\n"
     ]
    }
   ],
   "source": [
    "print(test)"
   ]
  },
  {
   "cell_type": "code",
   "execution_count": null,
   "metadata": {},
   "outputs": [],
   "source": []
  }
 ],
 "metadata": {
  "kernelspec": {
   "display_name": "Python 3",
   "language": "python",
   "name": "python3"
  },
  "language_info": {
   "codemirror_mode": {
    "name": "ipython",
    "version": 3
   },
   "file_extension": ".py",
   "mimetype": "text/x-python",
   "name": "python",
   "nbconvert_exporter": "python",
   "pygments_lexer": "ipython3",
   "version": "3.8.2"
  }
 },
 "nbformat": 4,
 "nbformat_minor": 2
}
